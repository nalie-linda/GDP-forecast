{
 "cells": [
  {
   "cell_type": "markdown",
   "metadata": {},
   "source": [
    "WORLD BANK DEVELOPMENT INDICATORS\n",
    "\n",
    "This package helps in exploring the different world bank indicators for different countries.\n",
    "Some useful functions for exploring this data include;\n",
    "1. get_indicators()\n",
    "2. get_series()\n",
    "3. get_sources()\n",
    "4. search_sources()\n"
   ]
  },
  {
   "cell_type": "code",
   "execution_count": 38,
   "metadata": {},
   "outputs": [],
   "source": [
    "import warnings\n",
    "warnings.simplefilter(\"ignore\")\n",
    "from pandas_datareader.wb import WorldBankReader, get_indicators\n",
    "import pandas as pd\n",
    "import numpy as np\n",
    "import statsmodels.api as sm\n",
    "from statsmodels.tsa.arima.model import ARIMA\n",
    "import pandas as pd\n",
    "import matplotlib.pyplot as plt"
   ]
  },
  {
   "cell_type": "code",
   "execution_count": 3,
   "metadata": {},
   "outputs": [
    {
     "data": {
      "text/html": [
       "<div>\n",
       "<style scoped>\n",
       "    .dataframe tbody tr th:only-of-type {\n",
       "        vertical-align: middle;\n",
       "    }\n",
       "\n",
       "    .dataframe tbody tr th {\n",
       "        vertical-align: top;\n",
       "    }\n",
       "\n",
       "    .dataframe thead th {\n",
       "        text-align: right;\n",
       "    }\n",
       "</style>\n",
       "<table border=\"1\" class=\"dataframe\">\n",
       "  <thead>\n",
       "    <tr style=\"text-align: right;\">\n",
       "      <th></th>\n",
       "      <th>id</th>\n",
       "      <th>name</th>\n",
       "      <th>unit</th>\n",
       "      <th>source</th>\n",
       "      <th>sourceNote</th>\n",
       "      <th>sourceOrganization</th>\n",
       "      <th>topics</th>\n",
       "    </tr>\n",
       "  </thead>\n",
       "  <tbody>\n",
       "    <tr>\n",
       "      <th>0</th>\n",
       "      <td>1.0.HCount.1.90usd</td>\n",
       "      <td>Poverty Headcount ($1.90 a day)</td>\n",
       "      <td></td>\n",
       "      <td>LAC Equity Lab</td>\n",
       "      <td>The poverty headcount index measures the propo...</td>\n",
       "      <td>b'LAC Equity Lab tabulations of SEDLAC (CEDLAS...</td>\n",
       "      <td>Poverty</td>\n",
       "    </tr>\n",
       "    <tr>\n",
       "      <th>1</th>\n",
       "      <td>1.0.HCount.2.5usd</td>\n",
       "      <td>Poverty Headcount ($2.50 a day)</td>\n",
       "      <td></td>\n",
       "      <td>LAC Equity Lab</td>\n",
       "      <td>The poverty headcount index measures the propo...</td>\n",
       "      <td>b'LAC Equity Lab tabulations of SEDLAC (CEDLAS...</td>\n",
       "      <td>Poverty</td>\n",
       "    </tr>\n",
       "    <tr>\n",
       "      <th>2</th>\n",
       "      <td>1.0.HCount.Mid10to50</td>\n",
       "      <td>Middle Class ($10-50 a day) Headcount</td>\n",
       "      <td></td>\n",
       "      <td>LAC Equity Lab</td>\n",
       "      <td>The poverty headcount index measures the propo...</td>\n",
       "      <td>b'LAC Equity Lab tabulations of SEDLAC (CEDLAS...</td>\n",
       "      <td>Poverty</td>\n",
       "    </tr>\n",
       "    <tr>\n",
       "      <th>3</th>\n",
       "      <td>1.0.HCount.Ofcl</td>\n",
       "      <td>Official Moderate Poverty Rate-National</td>\n",
       "      <td></td>\n",
       "      <td>LAC Equity Lab</td>\n",
       "      <td>The poverty headcount index measures the propo...</td>\n",
       "      <td>b'LAC Equity Lab tabulations of data from Nati...</td>\n",
       "      <td>Poverty</td>\n",
       "    </tr>\n",
       "    <tr>\n",
       "      <th>4</th>\n",
       "      <td>1.0.HCount.Poor4uds</td>\n",
       "      <td>Poverty Headcount ($4 a day)</td>\n",
       "      <td></td>\n",
       "      <td>LAC Equity Lab</td>\n",
       "      <td>The poverty headcount index measures the propo...</td>\n",
       "      <td>b'LAC Equity Lab tabulations of SEDLAC (CEDLAS...</td>\n",
       "      <td>Poverty</td>\n",
       "    </tr>\n",
       "  </tbody>\n",
       "</table>\n",
       "</div>"
      ],
      "text/plain": [
       "                     id                                     name unit  \\\n",
       "0    1.0.HCount.1.90usd          Poverty Headcount ($1.90 a day)        \n",
       "1     1.0.HCount.2.5usd          Poverty Headcount ($2.50 a day)        \n",
       "2  1.0.HCount.Mid10to50    Middle Class ($10-50 a day) Headcount        \n",
       "3       1.0.HCount.Ofcl  Official Moderate Poverty Rate-National        \n",
       "4   1.0.HCount.Poor4uds             Poverty Headcount ($4 a day)        \n",
       "\n",
       "           source                                         sourceNote  \\\n",
       "0  LAC Equity Lab  The poverty headcount index measures the propo...   \n",
       "1  LAC Equity Lab  The poverty headcount index measures the propo...   \n",
       "2  LAC Equity Lab  The poverty headcount index measures the propo...   \n",
       "3  LAC Equity Lab  The poverty headcount index measures the propo...   \n",
       "4  LAC Equity Lab  The poverty headcount index measures the propo...   \n",
       "\n",
       "                                  sourceOrganization    topics  \n",
       "0  b'LAC Equity Lab tabulations of SEDLAC (CEDLAS...  Poverty   \n",
       "1  b'LAC Equity Lab tabulations of SEDLAC (CEDLAS...  Poverty   \n",
       "2  b'LAC Equity Lab tabulations of SEDLAC (CEDLAS...  Poverty   \n",
       "3  b'LAC Equity Lab tabulations of data from Nati...  Poverty   \n",
       "4  b'LAC Equity Lab tabulations of SEDLAC (CEDLAS...  Poverty   "
      ]
     },
     "execution_count": 3,
     "metadata": {},
     "output_type": "execute_result"
    }
   ],
   "source": [
    "indicators = get_indicators()\n",
    "indicators_df = pd.DataFrame(indicators)\n",
    "indicators_df.head()"
   ]
  },
  {
   "cell_type": "code",
   "execution_count": 7,
   "metadata": {},
   "outputs": [
    {
     "name": "stdout",
     "output_type": "stream",
     "text": [
      "['Poverty ' '' 'Education ' 'Social Protection & Labor' 'Economy & Growth'\n",
      " 'Agriculture & Rural Development  '\n",
      " 'Agriculture & Rural Development   ; Climate Change'\n",
      " 'Agriculture & Rural Development   ; Climate Change ; Environment '\n",
      " 'Climate Change ; Urban Development  ; Environment '\n",
      " 'Climate Change ; Environment '\n",
      " 'Agriculture & Rural Development   ; Environment '\n",
      " 'Urban Development  ; Environment '\n",
      " 'Economy & Growth ; Private Sector ; Trade' 'Economy & Growth ; Trade'\n",
      " 'Economy & Growth ; Science & Technology '\n",
      " 'Economy & Growth ; External Debt ; Trade'\n",
      " 'Economy & Growth ; Financial Sector ' 'Economy & Growth ; External Debt'\n",
      " 'External Debt' 'Economy & Growth ; External Debt ; Aid Effectiveness '\n",
      " 'Economy & Growth ; Infrastructure  ; Trade'\n",
      " 'Economy & Growth ; Financial Sector  ; External Debt'\n",
      " 'Economy & Growth ; Financial Sector  ; Climate Change' 'Public Sector '\n",
      " 'Financial Sector ' 'Aid Effectiveness ' 'Millenium development goals'\n",
      " 'Aid Effectiveness  ; External Debt' 'Financial Sector  ; External Debt'\n",
      " 'Aid Effectiveness  ; Economy & Growth ; External Debt' 'Environment '\n",
      " 'Energy & Mining  ; Environment '\n",
      " 'Agriculture & Rural Development   ; Energy & Mining '\n",
      " 'Energy & Mining  ; Urban Development '\n",
      " 'Energy & Mining  ; Climate Change ; Environment '\n",
      " 'Energy & Mining  ; Climate Change ; Infrastructure '\n",
      " 'Energy & Mining  ; Infrastructure ' 'Energy & Mining '\n",
      " 'Energy & Mining  ; Trade' 'Energy & Mining  ; Climate Change'\n",
      " 'Urban Development ' 'Poverty  ; Urban Development  ; Environment '\n",
      " 'Climate Change ; Urban Development '\n",
      " 'Agriculture & Rural Development   ; Infrastructure  ; Environment '\n",
      " 'Infrastructure  ; Environment '\n",
      " 'Climate Change ; Infrastructure  ; Environment '\n",
      " 'Financial Sector  ; Private Sector' 'Science & Technology '\n",
      " 'Economy & Growth ; Public Sector ' 'Public Sector  ; Trade'\n",
      " 'Private Sector' 'Climate Change ; Private Sector'\n",
      " 'Financial Sector  ; Private Sector ; Public Sector '\n",
      " 'Private Sector ; Trade' 'Energy & Mining  ; Private Sector'\n",
      " 'Private Sector ; Gender' 'Private Sector ; Public Sector '\n",
      " 'Infrastructure ' 'Energy & Mining  ; Infrastructure  ; Private Sector'\n",
      " 'Infrastructure  ; Private Sector' 'Climate Change ; Public Sector '\n",
      " 'Infrastructure  ; Climate Change' 'Infrastructure  ; Urban Development '\n",
      " 'Urban Development  ; Infrastructure ' 'Trade ; Private Sector'\n",
      " 'Agriculture & Rural Development   ; Economy & Growth'\n",
      " 'Agriculture & Rural Development   ; Economy & Growth ; Climate Change'\n",
      " 'Economy & Growth ; Environment '\n",
      " 'Economy & Growth ; Energy & Mining  ; Environment '\n",
      " 'Economy & Growth ; Energy & Mining ' 'Education  ; Gender'\n",
      " 'Education  ; Gender ; Social Development ' 'Gender ; Education '\n",
      " 'Aid Effectiveness  ; Climate Change ; Education  ; Gender ; Social Development '\n",
      " 'Aid Effectiveness  ; Climate Change ; Education ' 'Gender'\n",
      " 'Education  ; Education ' 'Public Sector  ; Gender ; Social Development '\n",
      " 'Public Sector  ; Gender' 'Public Sector  ; Gender ; Gender'\n",
      " 'Gender ; Gender' 'Health  ; Gender' 'Health ' 'Education  ; Health '\n",
      " 'Education  ; Health  ; Health ' 'Health  ; Aid Effectiveness '\n",
      " 'Gender ; Health ' 'Health  ; Aid Effectiveness  ; Climate Change'\n",
      " 'Health  ; Environment '\n",
      " 'Agriculture & Rural Development   ; Climate Change ; Infrastructure  ; Health '\n",
      " 'Climate Change ; Infrastructure  ; Health  ; Urban Development '\n",
      " 'Climate Change ; Infrastructure  ; Health '\n",
      " 'Health  ; Gender ; Social Development ' 'Gender ; Health  ; Gender'\n",
      " 'Health  ; Climate Change' 'Agriculture & Rural Development   ; Health '\n",
      " 'Health  ; Urban Development ' 'Health  ; Gender ; Aid Effectiveness '\n",
      " 'Poverty  ; Aid Effectiveness '\n",
      " 'Poverty  ; Aid Effectiveness  ; Climate Change'\n",
      " 'Agriculture & Rural Development   ; Poverty '\n",
      " 'Poverty  ; Urban Development ' 'Social Protection & Labor ; Gender'\n",
      " 'Agriculture & Rural Development   ; Social Protection & Labor ; Gender'\n",
      " 'Agriculture & Rural Development   ; Social Protection & Labor'\n",
      " 'Social Protection & Labor ; Gender ; Social Development '\n",
      " 'Social Protection & Labor ; Aid Effectiveness '\n",
      " 'Social Protection & Labor ; Social Development '\n",
      " 'Education  ; Social Protection & Labor ; Gender'\n",
      " 'Education  ; Social Protection & Labor'\n",
      " 'Education  ; Social Protection & Labor ; Gender ; Social Development '\n",
      " 'Education  ; Financial Sector  ; Health '\n",
      " 'Financial Sector  ; Health  ; Aid Effectiveness '\n",
      " 'Health  ; Social Development ' 'Financial Sector  ; Health '\n",
      " 'Climate Change ; Health '\n",
      " 'Agriculture & Rural Development   ; Private Sector ; Trade'\n",
      " 'Energy & Mining  ; Private Sector ; Trade'\n",
      " 'Infrastructure  ; Private Sector ; Trade'\n",
      " 'Private Sector ; Science & Technology  ; Trade'\n",
      " 'Financial Sector  ; Gender']\n"
     ]
    }
   ],
   "source": [
    "topic = indicators_df['topics'].unique()\n",
    "print(topic)"
   ]
  },
  {
   "cell_type": "code",
   "execution_count": 8,
   "metadata": {},
   "outputs": [],
   "source": [
    "\n",
    "gdp = WorldBankReader(symbols='NY.GDP.MKTP.CN', countries= 'KE', start=2009, end=2020).read()\n"
   ]
  },
  {
   "cell_type": "code",
   "execution_count": 11,
   "metadata": {},
   "outputs": [
    {
     "data": {
      "text/html": [
       "<div>\n",
       "<style scoped>\n",
       "    .dataframe tbody tr th:only-of-type {\n",
       "        vertical-align: middle;\n",
       "    }\n",
       "\n",
       "    .dataframe tbody tr th {\n",
       "        vertical-align: top;\n",
       "    }\n",
       "\n",
       "    .dataframe thead th {\n",
       "        text-align: right;\n",
       "    }\n",
       "</style>\n",
       "<table border=\"1\" class=\"dataframe\">\n",
       "  <thead>\n",
       "    <tr style=\"text-align: right;\">\n",
       "      <th></th>\n",
       "      <th></th>\n",
       "      <th>NY.GDP.MKTP.CN</th>\n",
       "    </tr>\n",
       "    <tr>\n",
       "      <th>country</th>\n",
       "      <th>year</th>\n",
       "      <th></th>\n",
       "    </tr>\n",
       "  </thead>\n",
       "  <tbody>\n",
       "    <tr>\n",
       "      <th rowspan=\"5\" valign=\"top\">Kenya</th>\n",
       "      <th>2020</th>\n",
       "      <td>10715070000000</td>\n",
       "    </tr>\n",
       "    <tr>\n",
       "      <th>2019</th>\n",
       "      <td>10237727000000</td>\n",
       "    </tr>\n",
       "    <tr>\n",
       "      <th>2018</th>\n",
       "      <td>9340307000000</td>\n",
       "    </tr>\n",
       "    <tr>\n",
       "      <th>2017</th>\n",
       "      <td>8483396000000</td>\n",
       "    </tr>\n",
       "    <tr>\n",
       "      <th>2016</th>\n",
       "      <td>7594064000000</td>\n",
       "    </tr>\n",
       "  </tbody>\n",
       "</table>\n",
       "</div>"
      ],
      "text/plain": [
       "              NY.GDP.MKTP.CN\n",
       "country year                \n",
       "Kenya   2020  10715070000000\n",
       "        2019  10237727000000\n",
       "        2018   9340307000000\n",
       "        2017   8483396000000\n",
       "        2016   7594064000000"
      ]
     },
     "execution_count": 11,
     "metadata": {},
     "output_type": "execute_result"
    }
   ],
   "source": [
    "# kenya's GDP for the last 20 years\n",
    "gdp.head()"
   ]
  },
  {
   "cell_type": "code",
   "execution_count": 14,
   "metadata": {},
   "outputs": [
    {
     "data": {
      "image/png": "[encoded data removed]",
      "text/plain": [
       "<Figure size 640x480 with 1 Axes>"
      ]
     },
     "metadata": {},
     "output_type": "display_data"
    }
   ],
   "source": [
    "fig, ax = plt.subplots()\n",
    "plt.suptitle('plot of GDP against year (2009-2020)')\n",
    "gdp.plot(ax=ax)\n",
    "plt.xticks(rotation=90)\n",
    "plt.show()"
   ]
  },
  {
   "cell_type": "code",
   "execution_count": 15,
   "metadata": {},
   "outputs": [
    {
     "name": "stdout",
     "output_type": "stream",
     "text": [
      "ADF Statistic: -17.628603119669265\n",
      "p-value: 3.8080184171156934e-30\n"
     ]
    }
   ],
   "source": [
    "# The gdp series is clearly not stationary. we can also do the dicky fuller test for stationarity.\n",
    "# null hypothesis is that the time series is not stationary\n",
    "\n",
    "from statsmodels.tsa.stattools import adfuller\n",
    "\n",
    "result = adfuller(gdp)\n",
    "\n",
    "# Print the test statistic and the p-value. p-value is less than 0.05 we accept the null that series isn't stationary\n",
    "print('ADF Statistic:', result[0])\n",
    "print('p-value:', result[1])"
   ]
  },
  {
   "cell_type": "code",
   "execution_count": 16,
   "metadata": {},
   "outputs": [],
   "source": [
    "# compute the first difference to make the series stationary.but there's still some stationarity therefore take second diff\n",
    "gdp_diff = gdp.diff().diff().dropna()\n"
   ]
  },
  {
   "cell_type": "code",
   "execution_count": 36,
   "metadata": {},
   "outputs": [
    {
     "data": {
      "image/png": "[encoded data removed]",
      "text/plain": [
       "<Figure size 640x480 with 1 Axes>"
      ]
     },
     "metadata": {},
     "output_type": "display_data"
    }
   ],
   "source": [
    "fig, ax = plt.subplots()\n",
    "gdp_diff.plot(ax=ax)\n",
    "plt.xticks(rotation=90)\n",
    "plt.show()"
   ]
  },
  {
   "cell_type": "code",
   "execution_count": 37,
   "metadata": {},
   "outputs": [],
   "source": [
    "# Let's try the log transformation\n",
    "gdp_log = np.log(gdp/gdp.shift(1)).dropna()"
   ]
  },
  {
   "cell_type": "code",
   "execution_count": 34,
   "metadata": {},
   "outputs": [
    {
     "data": {
      "image/png": "[encoded data removed]",
      "text/plain": [
       "<Figure size 640x480 with 1 Axes>"
      ]
     },
     "metadata": {},
     "output_type": "display_data"
    }
   ],
   "source": [
    "fig, ax = plt.subplots()\n",
    "gdp_log.plot(ax=ax)\n",
    "plt.xticks(rotation=90)\n",
    "plt.show()"
   ]
  },
  {
   "cell_type": "code",
   "execution_count": 30,
   "metadata": {},
   "outputs": [],
   "source": [
    "result1 = adfuller(gdp_diff)\n",
    "result2 = adfuller(gdp_log)\n"
   ]
  },
  {
   "cell_type": "code",
   "execution_count": 39,
   "metadata": {},
   "outputs": [
    {
     "name": "stdout",
     "output_type": "stream",
     "text": [
      "AdfullerStatistic: diff= -3.688943636245092 : log= 9.736600634868015\n",
      "Pvalue:diff= 0.004271387073436407: log= 1.0\n"
     ]
    }
   ],
   "source": [
    "\"\"\" when we compare the p-values of both transformations, the logarithm is greater than 0.05( Reject the null-- not stationary) meaning it is a better transformation \n",
    "in making our series stationary. that is what we shall use to fit the ARMA model.\n",
    "\"\"\"\n",
    "\n",
    "print(f\"AdfullerStatistic: diff= {result1[0]} : log= {result2[0]}\")\n",
    "print(f\"Pvalue:diff= {result1[1]}: log= {result2[1]}\")"
   ]
  },
  {
   "attachments": {},
   "cell_type": "markdown",
   "metadata": {},
   "source": [
    "Fitting the ARMA model"
   ]
  },
  {
   "cell_type": "code",
   "execution_count": 40,
   "metadata": {},
   "outputs": [
    {
     "data": {
      "text/html": [
       "<div>\n",
       "<style scoped>\n",
       "    .dataframe tbody tr th:only-of-type {\n",
       "        vertical-align: middle;\n",
       "    }\n",
       "\n",
       "    .dataframe tbody tr th {\n",
       "        vertical-align: top;\n",
       "    }\n",
       "\n",
       "    .dataframe thead th {\n",
       "        text-align: right;\n",
       "    }\n",
       "</style>\n",
       "<table border=\"1\" class=\"dataframe\">\n",
       "  <thead>\n",
       "    <tr style=\"text-align: right;\">\n",
       "      <th></th>\n",
       "      <th></th>\n",
       "      <th>NY.GDP.MKTP.CN</th>\n",
       "    </tr>\n",
       "    <tr>\n",
       "      <th>country</th>\n",
       "      <th>year</th>\n",
       "      <th></th>\n",
       "    </tr>\n",
       "  </thead>\n",
       "  <tbody>\n",
       "    <tr>\n",
       "      <th rowspan=\"5\" valign=\"top\">Kenya</th>\n",
       "      <th>2019</th>\n",
       "      <td>-0.045572</td>\n",
       "    </tr>\n",
       "    <tr>\n",
       "      <th>2018</th>\n",
       "      <td>-0.091741</td>\n",
       "    </tr>\n",
       "    <tr>\n",
       "      <th>2017</th>\n",
       "      <td>-0.096228</td>\n",
       "    </tr>\n",
       "    <tr>\n",
       "      <th>2016</th>\n",
       "      <td>-0.110744</td>\n",
       "    </tr>\n",
       "    <tr>\n",
       "      <th>2015</th>\n",
       "      <td>-0.098121</td>\n",
       "    </tr>\n",
       "  </tbody>\n",
       "</table>\n",
       "</div>"
      ],
      "text/plain": [
       "              NY.GDP.MKTP.CN\n",
       "country year                \n",
       "Kenya   2019       -0.045572\n",
       "        2018       -0.091741\n",
       "        2017       -0.096228\n",
       "        2016       -0.110744\n",
       "        2015       -0.098121"
      ]
     },
     "execution_count": 40,
     "metadata": {},
     "output_type": "execute_result"
    }
   ],
   "source": [
    "gdp_log.head()"
   ]
  },
  {
   "cell_type": "code",
   "execution_count": 41,
   "metadata": {},
   "outputs": [],
   "source": [
    "# preapre the gdp_log df for modelling\n",
    "\n",
    "# Drop country name from index\n",
    "gdp_log= gdp_log.droplevel(level=0, axis=0)"
   ]
  },
  {
   "cell_type": "code",
   "execution_count": 42,
   "metadata": {},
   "outputs": [
    {
     "data": {
      "text/html": [
       "<div>\n",
       "<style scoped>\n",
       "    .dataframe tbody tr th:only-of-type {\n",
       "        vertical-align: middle;\n",
       "    }\n",
       "\n",
       "    .dataframe tbody tr th {\n",
       "        vertical-align: top;\n",
       "    }\n",
       "\n",
       "    .dataframe thead th {\n",
       "        text-align: right;\n",
       "    }\n",
       "</style>\n",
       "<table border=\"1\" class=\"dataframe\">\n",
       "  <thead>\n",
       "    <tr style=\"text-align: right;\">\n",
       "      <th></th>\n",
       "      <th>NY.GDP.MKTP.CN</th>\n",
       "    </tr>\n",
       "    <tr>\n",
       "      <th>year</th>\n",
       "      <th></th>\n",
       "    </tr>\n",
       "  </thead>\n",
       "  <tbody>\n",
       "    <tr>\n",
       "      <th>2019</th>\n",
       "      <td>-0.045572</td>\n",
       "    </tr>\n",
       "    <tr>\n",
       "      <th>2018</th>\n",
       "      <td>-0.091741</td>\n",
       "    </tr>\n",
       "    <tr>\n",
       "      <th>2017</th>\n",
       "      <td>-0.096228</td>\n",
       "    </tr>\n",
       "    <tr>\n",
       "      <th>2016</th>\n",
       "      <td>-0.110744</td>\n",
       "    </tr>\n",
       "    <tr>\n",
       "      <th>2015</th>\n",
       "      <td>-0.098121</td>\n",
       "    </tr>\n",
       "  </tbody>\n",
       "</table>\n",
       "</div>"
      ],
      "text/plain": [
       "      NY.GDP.MKTP.CN\n",
       "year                \n",
       "2019       -0.045572\n",
       "2018       -0.091741\n",
       "2017       -0.096228\n",
       "2016       -0.110744\n",
       "2015       -0.098121"
      ]
     },
     "execution_count": 42,
     "metadata": {},
     "output_type": "execute_result"
    }
   ],
   "source": [
    "gdp_log.head()"
   ]
  },
  {
   "cell_type": "code",
   "execution_count": 43,
   "metadata": {},
   "outputs": [],
   "source": [
    "# Sort data in choronological order and set data point at year-end\n",
    "gdp_log = gdp_log.set_index(pd.to_datetime(gdp_log.index))\n",
    "gdp_log = gdp_log.sort_index().resample(\"y\").last()"
   ]
  },
  {
   "cell_type": "code",
   "execution_count": 44,
   "metadata": {},
   "outputs": [],
   "source": [
    "\n",
    "# instantiate a model object\n",
    "\n",
    "model = ARIMA(endog=gdp_log , order = (1,2,1))\n",
    "\n",
    "# fit model\n",
    "results = model.fit()"
   ]
  },
  {
   "cell_type": "code",
   "execution_count": 45,
   "metadata": {},
   "outputs": [],
   "source": [
    "# Forecast, and calculate the relative error\n",
    "forecast = results.forecast(steps=4)\n",
    "#df = pd.DataFrame({\"Actual\":gdp, \"Forecast\":forecast}).dropna()"
   ]
  },
  {
   "cell_type": "code",
   "execution_count": 46,
   "metadata": {},
   "outputs": [
    {
     "name": "stdout",
     "output_type": "stream",
     "text": [
      "2020-12-31   -0.042652\n",
      "2021-12-31   -0.025144\n",
      "2022-12-31   -0.012557\n",
      "2023-12-31    0.001690\n",
      "Freq: A-DEC, Name: predicted_mean, dtype: float64\n"
     ]
    }
   ],
   "source": [
    "print(forecast)"
   ]
  },
  {
   "cell_type": "code",
   "execution_count": 47,
   "metadata": {},
   "outputs": [
    {
     "name": "stdout",
     "output_type": "stream",
     "text": [
      "0.9064594247186053\n"
     ]
    }
   ],
   "source": [
    "# kenya's GDP forecast for 2020\n",
    "forecast_20  = 10 ** forecast[0]\n",
    "print(forecast_20)"
   ]
  }
 ],
 "metadata": {
  "kernelspec": {
   "display_name": ".venv",
   "language": "python",
   "name": "python3"
  },
  "language_info": {
   "codemirror_mode": {
    "name": "ipython",
    "version": 3
   },
   "file_extension": ".py",
   "mimetype": "text/x-python",
   "name": "python",
   "nbconvert_exporter": "python",
   "pygments_lexer": "ipython3",
   "version": "3.10.7"
  },
  "orig_nbformat": 4
 },
 "nbformat": 4,
 "nbformat_minor": 2
}
